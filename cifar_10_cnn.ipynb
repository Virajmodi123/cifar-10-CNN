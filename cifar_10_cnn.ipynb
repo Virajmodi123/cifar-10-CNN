{
 "cells": [
  {
   "cell_type": "code",
   "execution_count": 60,
   "metadata": {},
   "outputs": [],
   "source": [
    "import keras\n",
    "from keras.datasets import cifar10\n",
    "from keras.preprocessing.image import ImageDataGenerator\n",
    "from keras.models import Sequential\n",
    "from keras.layers import Dense, Dropout, Activation, Flatten\n",
    "from keras.layers import Conv2D, MaxPooling2D\n",
    "import os\n",
    "\n",
    "import numpy as np\n",
    "\n",
    "import seaborn as sns\n",
    "import matplotlib\n",
    "import matplotlib.pyplot as plt\n",
    "\n",
    "from sklearn.metrics import confusion_matrix, classification_report\n",
    "import itertools"
   ]
  },
  {
   "cell_type": "code",
   "execution_count": 61,
   "metadata": {},
   "outputs": [
    {
     "name": "stdout",
     "output_type": "stream",
     "text": [
      "x_train shape: (50000, 32, 32, 3)\n",
      "y_train shape: (50000, 1)\n",
      "50000 train samples\n",
      "10000 test samples\n"
     ]
    }
   ],
   "source": [
    "(x_train, y_train), (x_test, y_test) = cifar10.load_data()\n",
    "print('x_train shape:', x_train.shape)\n",
    "print('y_train shape:', y_train.shape)\n",
    "print(x_train.shape[0], 'train samples')\n",
    "print(x_test.shape[0], 'test samples')"
   ]
  },
  {
   "cell_type": "code",
   "execution_count": 62,
   "metadata": {},
   "outputs": [
    {
     "name": "stderr",
     "output_type": "stream",
     "text": [
      "c:\\Users\\Viraj\\anaconda3\\lib\\site-packages\\seaborn\\_decorators.py:36: FutureWarning: Pass the following variable as a keyword arg: x. From version 0.12, the only valid positional argument will be `data`, and passing other arguments without an explicit keyword will result in an error or misinterpretation.\n",
      "  warnings.warn(\n",
      "c:\\Users\\Viraj\\anaconda3\\lib\\site-packages\\seaborn\\_decorators.py:36: FutureWarning: Pass the following variable as a keyword arg: x. From version 0.12, the only valid positional argument will be `data`, and passing other arguments without an explicit keyword will result in an error or misinterpretation.\n",
      "  warnings.warn(\n"
     ]
    },
    {
     "data": {
      "image/png": "[encoded data removed]",
      "text/plain": [
       "<Figure size 1500x500 with 2 Axes>"
      ]
     },
     "metadata": {},
     "output_type": "display_data"
    }
   ],
   "source": [
    "fig, axs = plt.subplots(1,2,figsize=(15,5)) \n",
    "# Count plot for training set\n",
    "sns.countplot(y_train.ravel(), ax=axs[0])\n",
    "axs[0].set_title('Distribution of training data')\n",
    "axs[0].set_xlabel('Classes')\n",
    "# Count plot for testing set\n",
    "sns.countplot(y_test.ravel(), ax=axs[1])\n",
    "axs[1].set_title('Distribution of Testing data')\n",
    "axs[1].set_xlabel('Classes')\n",
    "plt.show()"
   ]
  },
  {
   "cell_type": "code",
   "execution_count": 63,
   "metadata": {},
   "outputs": [],
   "source": [
    "batch_size = 100  # The default batch size of keras.\n",
    "num_classes = 10  # Number of class for the dataset\n",
    "epochs = 50\n",
    "data_augmentation = False"
   ]
  },
  {
   "cell_type": "code",
   "execution_count": 64,
   "metadata": {},
   "outputs": [],
   "source": [
    "# Normalize the data. Before we need to connvert data type to float for computation.\n",
    "x_train = x_train.astype('float32')\n",
    "x_test = x_test.astype('float32')\n",
    "x_train /= 255\n",
    "x_test /= 255\n",
    "\n",
    "# Convert class vectors to binary class matrices. This is called one hot encoding.\n",
    "y_train = keras.utils.to_categorical(y_train, num_classes)\n",
    "y_test = keras.utils.to_categorical(y_test, num_classes)"
   ]
  },
  {
   "cell_type": "code",
   "execution_count": 65,
   "metadata": {},
   "outputs": [
    {
     "name": "stdout",
     "output_type": "stream",
     "text": [
      "Model: \"sequential_8\"\n",
      "_________________________________________________________________\n",
      " Layer (type)                Output Shape              Param #   \n",
      "=================================================================\n",
      " conv2d_32 (Conv2D)          (None, 32, 32, 32)        896       \n",
      "                                                                 \n",
      " activation_48 (Activation)  (None, 32, 32, 32)        0         \n",
      "                                                                 \n",
      " conv2d_33 (Conv2D)          (None, 30, 30, 32)        9248      \n",
      "                                                                 \n",
      " activation_49 (Activation)  (None, 30, 30, 32)        0         \n",
      "                                                                 \n",
      " max_pooling2d_16 (MaxPoolin  (None, 15, 15, 32)       0         \n",
      " g2D)                                                            \n",
      "                                                                 \n",
      " dropout_24 (Dropout)        (None, 15, 15, 32)        0         \n",
      "                                                                 \n",
      " conv2d_34 (Conv2D)          (None, 15, 15, 64)        18496     \n",
      "                                                                 \n",
      " activation_50 (Activation)  (None, 15, 15, 64)        0         \n",
      "                                                                 \n",
      " conv2d_35 (Conv2D)          (None, 13, 13, 64)        36928     \n",
      "                                                                 \n",
      " activation_51 (Activation)  (None, 13, 13, 64)        0         \n",
      "                                                                 \n",
      " max_pooling2d_17 (MaxPoolin  (None, 6, 6, 64)         0         \n",
      " g2D)                                                            \n",
      "                                                                 \n",
      " dropout_25 (Dropout)        (None, 6, 6, 64)          0         \n",
      "                                                                 \n",
      " flatten_8 (Flatten)         (None, 2304)              0         \n",
      "                                                                 \n",
      " dense_16 (Dense)            (None, 512)               1180160   \n",
      "                                                                 \n",
      " activation_52 (Activation)  (None, 512)               0         \n",
      "                                                                 \n",
      " dropout_26 (Dropout)        (None, 512)               0         \n",
      "                                                                 \n",
      " dense_17 (Dense)            (None, 10)                5130      \n",
      "                                                                 \n",
      " activation_53 (Activation)  (None, 10)                0         \n",
      "                                                                 \n",
      "=================================================================\n",
      "Total params: 1,250,858\n",
      "Trainable params: 1,250,858\n",
      "Non-trainable params: 0\n",
      "_________________________________________________________________\n"
     ]
    }
   ],
   "source": [
    "#define the convnet\n",
    "model = Sequential()\n",
    "# CONV => RELU => CONV => RELU => POOL => DROPOUT\n",
    "model.add(Conv2D(32, (3, 3), padding='same',input_shape=x_train.shape[1:]))\n",
    "model.add(Activation('relu'))\n",
    "model.add(Conv2D(32, (3, 3)))\n",
    "model.add(Activation('relu'))\n",
    "model.add(MaxPooling2D(pool_size=(2, 2)))\n",
    "model.add(Dropout(0.25))\n",
    "\n",
    "# CONV => RELU => CONV => RELU => POOL => DROPOUT\n",
    "model.add(Conv2D(64, (3, 3), padding='same'))\n",
    "model.add(Activation('relu'))\n",
    "model.add(Conv2D(64, (3, 3)))\n",
    "model.add(Activation('relu'))\n",
    "model.add(MaxPooling2D(pool_size=(2, 2)))\n",
    "model.add(Dropout(0.25))\n",
    "\n",
    "# FLATTERN => DENSE => RELU => DROPOUT\n",
    "model.add(Flatten())\n",
    "model.add(Dense(512))\n",
    "model.add(Activation('relu'))\n",
    "model.add(Dropout(0.5))\n",
    "# a softmax classifier\n",
    "model.add(Dense(num_classes))\n",
    "model.add(Activation('softmax'))\n",
    "\n",
    "model.summary()"
   ]
  },
  {
   "cell_type": "code",
   "execution_count": 66,
   "metadata": {},
   "outputs": [],
   "source": [
    "# initiate RMSprop optimizer\n",
    "opt = keras.optimizers.RMSprop(learning_rate=0.0001, decay=1e-6)\n",
    "\n",
    "# Let's train the model using RMSprop\n",
    "model.compile(loss='categorical_crossentropy',optimizer=opt,metrics=['accuracy'])"
   ]
  },
  {
   "cell_type": "code",
   "execution_count": 67,
   "metadata": {},
   "outputs": [
    {
     "name": "stdout",
     "output_type": "stream",
     "text": [
      "Epoch 1/50\n",
      "500/500 [==============================] - 114s 225ms/step - loss: 1.9724 - accuracy: 0.2737\n",
      "Epoch 2/50\n",
      "500/500 [==============================] - 108s 215ms/step - loss: 1.6742 - accuracy: 0.3935\n",
      "Epoch 3/50\n",
      "500/500 [==============================] - 109s 218ms/step - loss: 1.5531 - accuracy: 0.4387\n",
      "Epoch 4/50\n",
      "500/500 [==============================] - 115s 230ms/step - loss: 1.4691 - accuracy: 0.4694\n",
      "Epoch 5/50\n",
      "500/500 [==============================] - 125s 250ms/step - loss: 1.4045 - accuracy: 0.4976\n",
      "Epoch 6/50\n",
      "500/500 [==============================] - 123s 246ms/step - loss: 1.3460 - accuracy: 0.5193\n",
      "Epoch 7/50\n",
      "500/500 [==============================] - 116s 233ms/step - loss: 1.2980 - accuracy: 0.5360\n",
      "Epoch 8/50\n",
      "500/500 [==============================] - 111s 223ms/step - loss: 1.2598 - accuracy: 0.5535\n",
      "Epoch 9/50\n",
      "500/500 [==============================] - 119s 238ms/step - loss: 1.2157 - accuracy: 0.5694\n",
      "Epoch 10/50\n",
      "500/500 [==============================] - 119s 238ms/step - loss: 1.1769 - accuracy: 0.5832\n",
      "Epoch 11/50\n",
      "500/500 [==============================] - 116s 231ms/step - loss: 1.1409 - accuracy: 0.5990\n",
      "Epoch 12/50\n",
      "500/500 [==============================] - 112s 225ms/step - loss: 1.1109 - accuracy: 0.6101\n",
      "Epoch 13/50\n",
      "500/500 [==============================] - 115s 230ms/step - loss: 1.0799 - accuracy: 0.6222\n",
      "Epoch 14/50\n",
      "500/500 [==============================] - 124s 247ms/step - loss: 1.0513 - accuracy: 0.6301\n",
      "Epoch 15/50\n",
      "500/500 [==============================] - 120s 239ms/step - loss: 1.0244 - accuracy: 0.6395\n",
      "Epoch 16/50\n",
      "500/500 [==============================] - 118s 236ms/step - loss: 1.0005 - accuracy: 0.6510\n",
      "Epoch 17/50\n",
      "500/500 [==============================] - 113s 226ms/step - loss: 0.9740 - accuracy: 0.6603\n",
      "Epoch 18/50\n",
      "500/500 [==============================] - 115s 230ms/step - loss: 0.9510 - accuracy: 0.6664\n",
      "Epoch 19/50\n",
      "500/500 [==============================] - 117s 234ms/step - loss: 0.9288 - accuracy: 0.6749\n",
      "Epoch 20/50\n",
      "500/500 [==============================] - 115s 229ms/step - loss: 0.9137 - accuracy: 0.6799\n",
      "Epoch 21/50\n",
      "500/500 [==============================] - 119s 238ms/step - loss: 0.8922 - accuracy: 0.6886\n",
      "Epoch 22/50\n",
      "500/500 [==============================] - 120s 241ms/step - loss: 0.8734 - accuracy: 0.6940\n",
      "Epoch 23/50\n",
      "500/500 [==============================] - 117s 234ms/step - loss: 0.8562 - accuracy: 0.7039\n",
      "Epoch 24/50\n",
      "500/500 [==============================] - 117s 234ms/step - loss: 0.8391 - accuracy: 0.7066\n",
      "Epoch 25/50\n",
      "500/500 [==============================] - 131s 263ms/step - loss: 0.8238 - accuracy: 0.7097\n",
      "Epoch 26/50\n",
      "500/500 [==============================] - 143s 285ms/step - loss: 0.8083 - accuracy: 0.7181\n",
      "Epoch 27/50\n",
      "500/500 [==============================] - 143s 286ms/step - loss: 0.8002 - accuracy: 0.7226\n",
      "Epoch 28/50\n",
      "500/500 [==============================] - 144s 287ms/step - loss: 0.7821 - accuracy: 0.7283\n",
      "Epoch 29/50\n",
      "500/500 [==============================] - 139s 278ms/step - loss: 0.7677 - accuracy: 0.7318\n",
      "Epoch 30/50\n",
      "500/500 [==============================] - 117s 233ms/step - loss: 0.7576 - accuracy: 0.7378\n",
      "Epoch 31/50\n",
      "500/500 [==============================] - 116s 232ms/step - loss: 0.7453 - accuracy: 0.7414\n",
      "Epoch 32/50\n",
      "500/500 [==============================] - 114s 228ms/step - loss: 0.7368 - accuracy: 0.7417\n",
      "Epoch 33/50\n",
      "500/500 [==============================] - 106s 211ms/step - loss: 0.7247 - accuracy: 0.7477\n",
      "Epoch 34/50\n",
      "500/500 [==============================] - 105s 211ms/step - loss: 0.7115 - accuracy: 0.7537\n",
      "Epoch 35/50\n",
      "500/500 [==============================] - 108s 216ms/step - loss: 0.7084 - accuracy: 0.7545\n",
      "Epoch 36/50\n",
      "500/500 [==============================] - 115s 229ms/step - loss: 0.6919 - accuracy: 0.7591\n",
      "Epoch 37/50\n",
      "500/500 [==============================] - 204s 408ms/step - loss: 0.6836 - accuracy: 0.7634\n",
      "Epoch 38/50\n",
      "500/500 [==============================] - 106s 212ms/step - loss: 0.6755 - accuracy: 0.7652\n",
      "Epoch 39/50\n",
      "500/500 [==============================] - 100s 199ms/step - loss: 0.6621 - accuracy: 0.7692\n",
      "Epoch 40/50\n",
      "500/500 [==============================] - 106s 212ms/step - loss: 0.6577 - accuracy: 0.7730\n",
      "Epoch 41/50\n",
      "500/500 [==============================] - 107s 214ms/step - loss: 0.6484 - accuracy: 0.7757\n",
      "Epoch 42/50\n",
      "500/500 [==============================] - 103s 207ms/step - loss: 0.6452 - accuracy: 0.7765\n",
      "Epoch 43/50\n",
      "500/500 [==============================] - 105s 211ms/step - loss: 0.6338 - accuracy: 0.7802\n",
      "Epoch 44/50\n",
      "500/500 [==============================] - 103s 206ms/step - loss: 0.6240 - accuracy: 0.7854\n",
      "Epoch 45/50\n",
      "500/500 [==============================] - 96s 192ms/step - loss: 0.6186 - accuracy: 0.7858\n",
      "Epoch 46/50\n",
      "500/500 [==============================] - 105s 210ms/step - loss: 0.6137 - accuracy: 0.7875\n",
      "Epoch 47/50\n",
      "500/500 [==============================] - 105s 210ms/step - loss: 0.6097 - accuracy: 0.7894\n",
      "Epoch 48/50\n",
      "500/500 [==============================] - 97s 194ms/step - loss: 0.5966 - accuracy: 0.7938\n",
      "Epoch 49/50\n",
      "500/500 [==============================] - 96s 193ms/step - loss: 0.6005 - accuracy: 0.7929\n",
      "Epoch 50/50\n",
      "500/500 [==============================] - 95s 190ms/step - loss: 0.5877 - accuracy: 0.7955\n"
     ]
    }
   ],
   "source": [
    "history = model.fit(x_train, y_train,batch_size=batch_size,epochs=epochs)\n"
   ]
  },
  {
   "cell_type": "code",
   "execution_count": 68,
   "metadata": {},
   "outputs": [
    {
     "name": "stdout",
     "output_type": "stream",
     "text": [
      "313/313 [==============================] - 5s 15ms/step - loss: 0.6546 - accuracy: 0.7783\n",
      "Test loss: 0.6546089053153992\n",
      "Test accuracy: 0.7782999873161316\n",
      "313/313 [==============================] - 5s 15ms/step\n"
     ]
    }
   ],
   "source": [
    "scores = model.evaluate(x_test, y_test, verbose=1)\n",
    "print('Test loss:', scores[0])\n",
    "print('Test accuracy:', scores[1])\n",
    "\n",
    "# make prediction.\n",
    "pred = model.predict(x_test)"
   ]
  }
 ],
 "metadata": {
  "kernelspec": {
   "display_name": "base",
   "language": "python",
   "name": "python3"
  },
  "language_info": {
   "codemirror_mode": {
    "name": "ipython",
    "version": 3
   },
   "file_extension": ".py",
   "mimetype": "text/x-python",
   "name": "python",
   "nbconvert_exporter": "python",
   "pygments_lexer": "ipython3",
   "version": "3.9.13"
  },
  "orig_nbformat": 4
 },
 "nbformat": 4,
 "nbformat_minor": 2
}
